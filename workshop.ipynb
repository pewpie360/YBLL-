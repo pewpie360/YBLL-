{
 "cells": [
  {
   "cell_type": "markdown",
   "metadata": {},
   "source": [
    "## Technical Workshop\n",
    "\n",
    "- Team up and apply the concepts that you have learned in pandas to access, manipulate and analyze data\n",
    "- Tinker around with the dataset to answer a series of questions\n",
    "- Save your group notebook and submit with the following format: `workshop_group_<#>.ipynb`\n",
    "- Duration: 1 hour"
   ]
  },
  {
   "cell_type": "markdown",
   "metadata": {},
   "source": [
    "### Describe Your Team!\n",
    "\n",
    "What other way than coming up with a simple dataframe that has the following columns:\n",
    "    - Name\n",
    "    - Year in College\n",
    "    - School\n",
    "\n",
    "Input each teammate as rows and then name your dataframe according to your team name."
   ]
  },
  {
   "cell_type": "code",
   "execution_count": 113,
   "metadata": {
    "execution": {
     "iopub.execute_input": "2025-03-08T08:24:35.214518Z",
     "iopub.status.busy": "2025-03-08T08:24:35.214518Z",
     "iopub.status.idle": "2025-03-08T08:24:35.224677Z",
     "shell.execute_reply": "2025-03-08T08:24:35.223670Z",
     "shell.execute_reply.started": "2025-03-08T08:24:35.214518Z"
    }
   },
   "outputs": [
    {
     "data": {
      "text/html": [
       "<div>\n",
       "<style scoped>\n",
       "    .dataframe tbody tr th:only-of-type {\n",
       "        vertical-align: middle;\n",
       "    }\n",
       "\n",
       "    .dataframe tbody tr th {\n",
       "        vertical-align: top;\n",
       "    }\n",
       "\n",
       "    .dataframe thead th {\n",
       "        text-align: right;\n",
       "    }\n",
       "</style>\n",
       "<table border=\"1\" class=\"dataframe\">\n",
       "  <thead>\n",
       "    <tr style=\"text-align: right;\">\n",
       "      <th></th>\n",
       "      <th>Name</th>\n",
       "      <th>Year in College</th>\n",
       "      <th>School</th>\n",
       "    </tr>\n",
       "  </thead>\n",
       "  <tbody>\n",
       "    <tr>\n",
       "      <th>0</th>\n",
       "      <td>Christian Jay Baguio</td>\n",
       "      <td>4</td>\n",
       "      <td>USTP</td>\n",
       "    </tr>\n",
       "    <tr>\n",
       "      <th>1</th>\n",
       "      <td>Anna Michaella Villanueva</td>\n",
       "      <td>3</td>\n",
       "      <td>CLSU</td>\n",
       "    </tr>\n",
       "    <tr>\n",
       "      <th>2</th>\n",
       "      <td>Chris Jallaine Mugot</td>\n",
       "      <td>3</td>\n",
       "      <td>USTP</td>\n",
       "    </tr>\n",
       "  </tbody>\n",
       "</table>\n",
       "</div>"
      ],
      "text/plain": [
       "                        Name  Year in College School\n",
       "0       Christian Jay Baguio                4   USTP\n",
       "1  Anna Michaella Villanueva                3   CLSU\n",
       "2       Chris Jallaine Mugot                3   USTP"
      ]
     },
     "execution_count": 113,
     "metadata": {},
     "output_type": "execute_result"
    }
   ],
   "source": [
    "import pandas as pd\n",
    "\n",
    "team_foo_bar = {\n",
    "    'Name': ['Christian Jay Baguio', 'Anna Michaella Villanueva', 'Chris Jallaine Mugot'],\n",
    "    'Year in College': [4, 3, 3],\n",
    "    'School': ['USTP', 'CLSU', 'USTP']\n",
    "}\n",
    "\n",
    "team_foo_bar = pd.DataFrame(team_foo_bar)\n",
    "team_foo_bar"
   ]
  },
  {
   "cell_type": "markdown",
   "metadata": {},
   "source": [
    "### Olympics Agency\n",
    "\n",
    "You and your teammates are working in the Data Science department of a renowned Sports Agency that primarily focuses on the Olympics. Consultants and journalists reach out to your team for key insights to fulfill their upcoming prints and marketing stints.\n",
    "\n",
    "Thankfully you have access to the relevant dataset, and of course your newly acquired Python Pandas skills.\n",
    "\n",
    "<img src=\"images/olympics_logo.png\" alt=\"BMI Formula\" width=\"500\" />"
   ]
  },
  {
   "cell_type": "markdown",
   "metadata": {},
   "source": [
    "#### Available Datasets\n",
    "\n",
    "| **Dataset**      | **Notes**      |\n",
    "| ------------- | ------------- |\n",
    "| [olympics_bios.csv](data/olympics_bios.csv) | Contains basic biographical data of Olympians since 1960s |\n",
    "| [noc_regions.csv](data/noc_regions.csv) | Contains records of National Olympic Committees |\n",
    "| [olympics_results.csv](data/olympics_results.csv) | Contains all records of Olympic events and the corresponding results |"
   ]
  },
  {
   "cell_type": "code",
   "execution_count": 163,
   "metadata": {
    "execution": {
     "iopub.execute_input": "2025-03-08T08:37:23.380076Z",
     "iopub.status.busy": "2025-03-08T08:37:23.380076Z",
     "iopub.status.idle": "2025-03-08T08:37:24.245852Z",
     "shell.execute_reply": "2025-03-08T08:37:24.245852Z",
     "shell.execute_reply.started": "2025-03-08T08:37:23.380076Z"
    }
   },
   "outputs": [
    {
     "name": "stdout",
     "output_type": "stream",
     "text": [
      "<class 'pandas.core.frame.DataFrame'>\n",
      "RangeIndex: 308408 entries, 0 to 308407\n",
      "Data columns (total 11 columns):\n",
      " #   Column      Non-Null Count   Dtype  \n",
      "---  ------      --------------   -----  \n",
      " 0   year        305807 non-null  float64\n",
      " 1   type        305807 non-null  object \n",
      " 2   discipline  308407 non-null  object \n",
      " 3   event       308408 non-null  object \n",
      " 4   as          308408 non-null  object \n",
      " 5   athlete_id  308408 non-null  int64  \n",
      " 6   noc         308407 non-null  object \n",
      " 7   team        121714 non-null  object \n",
      " 8   place       283193 non-null  float64\n",
      " 9   tied        308408 non-null  bool   \n",
      " 10  medal       44139 non-null   object \n",
      "dtypes: bool(1), float64(2), int64(1), object(7)\n",
      "memory usage: 23.8+ MB\n"
     ]
    }
   ],
   "source": [
    "olympics_bios = pd.read_csv('./data/olympics_bios.csv')\n",
    "noc = pd.read_csv('./data/noc_regions.csv')\n",
    "olympics_results = pd.read_csv('./data/olympics_results.csv')\n",
    "\n",
    "olympics_results.info()"
   ]
  },
  {
   "cell_type": "markdown",
   "metadata": {},
   "source": [
    "##### Preview Olympics Biography dataset:"
   ]
  },
  {
   "cell_type": "code",
   "execution_count": 117,
   "metadata": {
    "execution": {
     "iopub.execute_input": "2025-03-08T08:24:46.164608Z",
     "iopub.status.busy": "2025-03-08T08:24:46.163499Z",
     "iopub.status.idle": "2025-03-08T08:24:46.181593Z",
     "shell.execute_reply": "2025-03-08T08:24:46.181593Z",
     "shell.execute_reply.started": "2025-03-08T08:24:46.164608Z"
    }
   },
   "outputs": [
    {
     "data": {
      "text/html": [
       "<div>\n",
       "<style scoped>\n",
       "    .dataframe tbody tr th:only-of-type {\n",
       "        vertical-align: middle;\n",
       "    }\n",
       "\n",
       "    .dataframe tbody tr th {\n",
       "        vertical-align: top;\n",
       "    }\n",
       "\n",
       "    .dataframe thead th {\n",
       "        text-align: right;\n",
       "    }\n",
       "</style>\n",
       "<table border=\"1\" class=\"dataframe\">\n",
       "  <thead>\n",
       "    <tr style=\"text-align: right;\">\n",
       "      <th></th>\n",
       "      <th>athlete_id</th>\n",
       "      <th>name</th>\n",
       "      <th>born_date</th>\n",
       "      <th>born_city</th>\n",
       "      <th>born_region</th>\n",
       "      <th>born_country</th>\n",
       "      <th>NOC</th>\n",
       "      <th>height_cm</th>\n",
       "      <th>weight_kg</th>\n",
       "      <th>died_date</th>\n",
       "    </tr>\n",
       "  </thead>\n",
       "  <tbody>\n",
       "    <tr>\n",
       "      <th>36701</th>\n",
       "      <td>36995</td>\n",
       "      <td>Jean Klein</td>\n",
       "      <td>1944-06-22</td>\n",
       "      <td>Créteil</td>\n",
       "      <td>Val-de-Marne</td>\n",
       "      <td>FRA</td>\n",
       "      <td>France</td>\n",
       "      <td>172.0</td>\n",
       "      <td>52.0</td>\n",
       "      <td>2014-12-01</td>\n",
       "    </tr>\n",
       "    <tr>\n",
       "      <th>75165</th>\n",
       "      <td>75742</td>\n",
       "      <td>Franziska Rochat-Moser</td>\n",
       "      <td>1966-08-17</td>\n",
       "      <td>Crissier</td>\n",
       "      <td>Vaud</td>\n",
       "      <td>SUI</td>\n",
       "      <td>Switzerland</td>\n",
       "      <td>174.0</td>\n",
       "      <td>54.0</td>\n",
       "      <td>2002-03-07</td>\n",
       "    </tr>\n",
       "    <tr>\n",
       "      <th>44785</th>\n",
       "      <td>45127</td>\n",
       "      <td>Lisa Steanes</td>\n",
       "      <td>1958-05-23</td>\n",
       "      <td>NaN</td>\n",
       "      <td>NaN</td>\n",
       "      <td>NaN</td>\n",
       "      <td>Australia</td>\n",
       "      <td>170.0</td>\n",
       "      <td>61.0</td>\n",
       "      <td>NaN</td>\n",
       "    </tr>\n",
       "    <tr>\n",
       "      <th>81804</th>\n",
       "      <td>82456</td>\n",
       "      <td>Hedy Stenuf</td>\n",
       "      <td>1922-07-18</td>\n",
       "      <td>Wien (Vienna)</td>\n",
       "      <td>Wien</td>\n",
       "      <td>AUT</td>\n",
       "      <td>Austria</td>\n",
       "      <td>NaN</td>\n",
       "      <td>NaN</td>\n",
       "      <td>2010-11-07</td>\n",
       "    </tr>\n",
       "    <tr>\n",
       "      <th>127673</th>\n",
       "      <td>130144</td>\n",
       "      <td>Béatrice Edwige</td>\n",
       "      <td>1988-10-03</td>\n",
       "      <td>NaN</td>\n",
       "      <td>NaN</td>\n",
       "      <td>NaN</td>\n",
       "      <td>France</td>\n",
       "      <td>182.0</td>\n",
       "      <td>NaN</td>\n",
       "      <td>NaN</td>\n",
       "    </tr>\n",
       "  </tbody>\n",
       "</table>\n",
       "</div>"
      ],
      "text/plain": [
       "        athlete_id                    name   born_date      born_city  \\\n",
       "36701        36995              Jean Klein  1944-06-22        Créteil   \n",
       "75165        75742  Franziska Rochat-Moser  1966-08-17       Crissier   \n",
       "44785        45127            Lisa Steanes  1958-05-23            NaN   \n",
       "81804        82456             Hedy Stenuf  1922-07-18  Wien (Vienna)   \n",
       "127673      130144         Béatrice Edwige  1988-10-03            NaN   \n",
       "\n",
       "         born_region born_country          NOC  height_cm  weight_kg  \\\n",
       "36701   Val-de-Marne          FRA       France      172.0       52.0   \n",
       "75165           Vaud          SUI  Switzerland      174.0       54.0   \n",
       "44785            NaN          NaN    Australia      170.0       61.0   \n",
       "81804           Wien          AUT      Austria        NaN        NaN   \n",
       "127673           NaN          NaN       France      182.0        NaN   \n",
       "\n",
       "         died_date  \n",
       "36701   2014-12-01  \n",
       "75165   2002-03-07  \n",
       "44785          NaN  \n",
       "81804   2010-11-07  \n",
       "127673         NaN  "
      ]
     },
     "execution_count": 117,
     "metadata": {},
     "output_type": "execute_result"
    }
   ],
   "source": [
    "olympics_bios.sample(5)"
   ]
  },
  {
   "cell_type": "markdown",
   "metadata": {},
   "source": [
    "##### Preview NOC Region dataset:"
   ]
  },
  {
   "cell_type": "code",
   "execution_count": 119,
   "metadata": {
    "execution": {
     "iopub.execute_input": "2025-03-08T08:24:48.816553Z",
     "iopub.status.busy": "2025-03-08T08:24:48.816553Z",
     "iopub.status.idle": "2025-03-08T08:24:48.825919Z",
     "shell.execute_reply": "2025-03-08T08:24:48.825415Z",
     "shell.execute_reply.started": "2025-03-08T08:24:48.816553Z"
    }
   },
   "outputs": [
    {
     "data": {
      "text/html": [
       "<div>\n",
       "<style scoped>\n",
       "    .dataframe tbody tr th:only-of-type {\n",
       "        vertical-align: middle;\n",
       "    }\n",
       "\n",
       "    .dataframe tbody tr th {\n",
       "        vertical-align: top;\n",
       "    }\n",
       "\n",
       "    .dataframe thead th {\n",
       "        text-align: right;\n",
       "    }\n",
       "</style>\n",
       "<table border=\"1\" class=\"dataframe\">\n",
       "  <thead>\n",
       "    <tr style=\"text-align: right;\">\n",
       "      <th></th>\n",
       "      <th>NOC</th>\n",
       "      <th>region</th>\n",
       "      <th>notes</th>\n",
       "    </tr>\n",
       "  </thead>\n",
       "  <tbody>\n",
       "    <tr>\n",
       "      <th>35</th>\n",
       "      <td>CAM</td>\n",
       "      <td>Cambodia</td>\n",
       "      <td>NaN</td>\n",
       "    </tr>\n",
       "    <tr>\n",
       "      <th>222</th>\n",
       "      <td>VNM</td>\n",
       "      <td>Vietnam</td>\n",
       "      <td>NaN</td>\n",
       "    </tr>\n",
       "    <tr>\n",
       "      <th>62</th>\n",
       "      <td>ESA</td>\n",
       "      <td>El Salvador</td>\n",
       "      <td>NaN</td>\n",
       "    </tr>\n",
       "    <tr>\n",
       "      <th>151</th>\n",
       "      <td>NRU</td>\n",
       "      <td>Nauru</td>\n",
       "      <td>NaN</td>\n",
       "    </tr>\n",
       "    <tr>\n",
       "      <th>67</th>\n",
       "      <td>FIJ</td>\n",
       "      <td>Fiji</td>\n",
       "      <td>NaN</td>\n",
       "    </tr>\n",
       "  </tbody>\n",
       "</table>\n",
       "</div>"
      ],
      "text/plain": [
       "     NOC       region notes\n",
       "35   CAM     Cambodia   NaN\n",
       "222  VNM      Vietnam   NaN\n",
       "62   ESA  El Salvador   NaN\n",
       "151  NRU        Nauru   NaN\n",
       "67   FIJ         Fiji   NaN"
      ]
     },
     "execution_count": 119,
     "metadata": {},
     "output_type": "execute_result"
    }
   ],
   "source": [
    "noc.sample(5)"
   ]
  },
  {
   "cell_type": "markdown",
   "metadata": {},
   "source": [
    "##### Preview Olympics Results dataset:"
   ]
  },
  {
   "cell_type": "code",
   "execution_count": 121,
   "metadata": {
    "execution": {
     "iopub.execute_input": "2025-03-08T08:24:52.179140Z",
     "iopub.status.busy": "2025-03-08T08:24:52.179140Z",
     "iopub.status.idle": "2025-03-08T08:24:52.205742Z",
     "shell.execute_reply": "2025-03-08T08:24:52.205070Z",
     "shell.execute_reply.started": "2025-03-08T08:24:52.179140Z"
    }
   },
   "outputs": [
    {
     "data": {
      "text/html": [
       "<div>\n",
       "<style scoped>\n",
       "    .dataframe tbody tr th:only-of-type {\n",
       "        vertical-align: middle;\n",
       "    }\n",
       "\n",
       "    .dataframe tbody tr th {\n",
       "        vertical-align: top;\n",
       "    }\n",
       "\n",
       "    .dataframe thead th {\n",
       "        text-align: right;\n",
       "    }\n",
       "</style>\n",
       "<table border=\"1\" class=\"dataframe\">\n",
       "  <thead>\n",
       "    <tr style=\"text-align: right;\">\n",
       "      <th></th>\n",
       "      <th>year</th>\n",
       "      <th>type</th>\n",
       "      <th>discipline</th>\n",
       "      <th>event</th>\n",
       "      <th>as</th>\n",
       "      <th>athlete_id</th>\n",
       "      <th>noc</th>\n",
       "      <th>team</th>\n",
       "      <th>place</th>\n",
       "      <th>tied</th>\n",
       "      <th>medal</th>\n",
       "    </tr>\n",
       "  </thead>\n",
       "  <tbody>\n",
       "    <tr>\n",
       "      <th>151436</th>\n",
       "      <td>1992.0</td>\n",
       "      <td>Summer</td>\n",
       "      <td>Athletics</td>\n",
       "      <td>400 metres, Men (Olympic)</td>\n",
       "      <td>Devon Morris</td>\n",
       "      <td>72314</td>\n",
       "      <td>JAM</td>\n",
       "      <td>NaN</td>\n",
       "      <td>5.0</td>\n",
       "      <td>False</td>\n",
       "      <td>NaN</td>\n",
       "    </tr>\n",
       "    <tr>\n",
       "      <th>294035</th>\n",
       "      <td>2020.0</td>\n",
       "      <td>Winter</td>\n",
       "      <td>Alpine Skiing (Skiing)</td>\n",
       "      <td>Slalom, Girls (YOG)</td>\n",
       "      <td>Zita Tóth</td>\n",
       "      <td>138618</td>\n",
       "      <td>HUN</td>\n",
       "      <td>NaN</td>\n",
       "      <td>NaN</td>\n",
       "      <td>False</td>\n",
       "      <td>NaN</td>\n",
       "    </tr>\n",
       "    <tr>\n",
       "      <th>155399</th>\n",
       "      <td>1948.0</td>\n",
       "      <td>Summer</td>\n",
       "      <td>Athletics</td>\n",
       "      <td>800 metres, Men (Olympic)</td>\n",
       "      <td>Doug Harris</td>\n",
       "      <td>74310</td>\n",
       "      <td>NZL</td>\n",
       "      <td>NaN</td>\n",
       "      <td>2.0</td>\n",
       "      <td>False</td>\n",
       "      <td>NaN</td>\n",
       "    </tr>\n",
       "    <tr>\n",
       "      <th>238987</th>\n",
       "      <td>2014.0</td>\n",
       "      <td>Winter</td>\n",
       "      <td>Speed Skating (Skating)</td>\n",
       "      <td>1,000 metres, Men (Olympic)</td>\n",
       "      <td>Mark Tuitert</td>\n",
       "      <td>110382</td>\n",
       "      <td>NED</td>\n",
       "      <td>NaN</td>\n",
       "      <td>10.0</td>\n",
       "      <td>False</td>\n",
       "      <td>NaN</td>\n",
       "    </tr>\n",
       "    <tr>\n",
       "      <th>6463</th>\n",
       "      <td>1992.0</td>\n",
       "      <td>Summer</td>\n",
       "      <td>Baseball (Baseball/Softball)</td>\n",
       "      <td>Baseball, Men (Olympic)</td>\n",
       "      <td>Orlando López</td>\n",
       "      <td>3185</td>\n",
       "      <td>PUR</td>\n",
       "      <td>Puerto Rico</td>\n",
       "      <td>5.0</td>\n",
       "      <td>False</td>\n",
       "      <td>NaN</td>\n",
       "    </tr>\n",
       "  </tbody>\n",
       "</table>\n",
       "</div>"
      ],
      "text/plain": [
       "          year    type                    discipline  \\\n",
       "151436  1992.0  Summer                     Athletics   \n",
       "294035  2020.0  Winter        Alpine Skiing (Skiing)   \n",
       "155399  1948.0  Summer                     Athletics   \n",
       "238987  2014.0  Winter       Speed Skating (Skating)   \n",
       "6463    1992.0  Summer  Baseball (Baseball/Softball)   \n",
       "\n",
       "                              event             as  athlete_id  noc  \\\n",
       "151436    400 metres, Men (Olympic)   Devon Morris       72314  JAM   \n",
       "294035          Slalom, Girls (YOG)      Zita Tóth      138618  HUN   \n",
       "155399    800 metres, Men (Olympic)    Doug Harris       74310  NZL   \n",
       "238987  1,000 metres, Men (Olympic)   Mark Tuitert      110382  NED   \n",
       "6463        Baseball, Men (Olympic)  Orlando López        3185  PUR   \n",
       "\n",
       "               team  place   tied medal  \n",
       "151436          NaN    5.0  False   NaN  \n",
       "294035          NaN    NaN  False   NaN  \n",
       "155399          NaN    2.0  False   NaN  \n",
       "238987          NaN   10.0  False   NaN  \n",
       "6463    Puerto Rico    5.0  False   NaN  "
      ]
     },
     "execution_count": 121,
     "metadata": {},
     "output_type": "execute_result"
    }
   ],
   "source": [
    "olympics_results.sample(5)"
   ]
  },
  {
   "cell_type": "markdown",
   "metadata": {},
   "source": [
    "#### I. Filipino Sporting Triumphs\n",
    "\n",
    "The Filipino Olympic Committee has commissioned our agency to highlight their athletic achievements since the turn of the millennium. Your task is to compile a list of unique sports disciplines where Pinoy athletes have left their mark since the year 2000. Moreover, which amongst these sports disciplines did they produce promising results in (i.e bagged any type of medals)?"
   ]
  },
  {
   "cell_type": "code",
   "execution_count": 183,
   "metadata": {
    "execution": {
     "iopub.execute_input": "2025-03-08T08:43:11.931686Z",
     "iopub.status.busy": "2025-03-08T08:43:11.931686Z",
     "iopub.status.idle": "2025-03-08T08:43:11.978992Z",
     "shell.execute_reply": "2025-03-08T08:43:11.977985Z",
     "shell.execute_reply.started": "2025-03-08T08:43:11.931686Z"
    }
   },
   "outputs": [
    {
     "data": {
      "text/html": [
       "<div>\n",
       "<style scoped>\n",
       "    .dataframe tbody tr th:only-of-type {\n",
       "        vertical-align: middle;\n",
       "    }\n",
       "\n",
       "    .dataframe tbody tr th {\n",
       "        vertical-align: top;\n",
       "    }\n",
       "\n",
       "    .dataframe thead th {\n",
       "        text-align: right;\n",
       "    }\n",
       "</style>\n",
       "<table border=\"1\" class=\"dataframe\">\n",
       "  <thead>\n",
       "    <tr style=\"text-align: right;\">\n",
       "      <th></th>\n",
       "      <th>year</th>\n",
       "      <th>type</th>\n",
       "      <th>discipline</th>\n",
       "      <th>event</th>\n",
       "      <th>as</th>\n",
       "      <th>athlete_id</th>\n",
       "      <th>noc</th>\n",
       "      <th>team</th>\n",
       "      <th>place</th>\n",
       "      <th>tied</th>\n",
       "      <th>medal</th>\n",
       "    </tr>\n",
       "  </thead>\n",
       "  <tbody>\n",
       "    <tr>\n",
       "      <th>250026</th>\n",
       "      <td>2016.0</td>\n",
       "      <td>Summer</td>\n",
       "      <td>Weightlifting</td>\n",
       "      <td>Featherweight, Women (Olympic)</td>\n",
       "      <td>Hidilyn Diaz</td>\n",
       "      <td>116263</td>\n",
       "      <td>PHI</td>\n",
       "      <td>NaN</td>\n",
       "      <td>2.0</td>\n",
       "      <td>False</td>\n",
       "      <td>Silver</td>\n",
       "    </tr>\n",
       "    <tr>\n",
       "      <th>250027</th>\n",
       "      <td>2020.0</td>\n",
       "      <td>Summer</td>\n",
       "      <td>Weightlifting</td>\n",
       "      <td>Featherweight, Women (Olympic)</td>\n",
       "      <td>Hidilyn Diaz</td>\n",
       "      <td>116263</td>\n",
       "      <td>PHI</td>\n",
       "      <td>NaN</td>\n",
       "      <td>1.0</td>\n",
       "      <td>False</td>\n",
       "      <td>Gold</td>\n",
       "    </tr>\n",
       "    <tr>\n",
       "      <th>304104</th>\n",
       "      <td>2020.0</td>\n",
       "      <td>Summer</td>\n",
       "      <td>Boxing</td>\n",
       "      <td>Featherweight, Women (Olympic)</td>\n",
       "      <td>Nesthy Petecio</td>\n",
       "      <td>145878</td>\n",
       "      <td>PHI</td>\n",
       "      <td>NaN</td>\n",
       "      <td>2.0</td>\n",
       "      <td>False</td>\n",
       "      <td>Silver</td>\n",
       "    </tr>\n",
       "    <tr>\n",
       "      <th>304112</th>\n",
       "      <td>2020.0</td>\n",
       "      <td>Summer</td>\n",
       "      <td>Boxing</td>\n",
       "      <td>Flyweight, Men (Olympic)</td>\n",
       "      <td>Carlo Paalam</td>\n",
       "      <td>145885</td>\n",
       "      <td>PHI</td>\n",
       "      <td>NaN</td>\n",
       "      <td>2.0</td>\n",
       "      <td>False</td>\n",
       "      <td>Silver</td>\n",
       "    </tr>\n",
       "    <tr>\n",
       "      <th>304113</th>\n",
       "      <td>2020.0</td>\n",
       "      <td>Summer</td>\n",
       "      <td>Boxing</td>\n",
       "      <td>Middleweight, Men (Olympic)</td>\n",
       "      <td>Eumir Marcial</td>\n",
       "      <td>145886</td>\n",
       "      <td>PHI</td>\n",
       "      <td>NaN</td>\n",
       "      <td>3.0</td>\n",
       "      <td>True</td>\n",
       "      <td>Bronze</td>\n",
       "    </tr>\n",
       "  </tbody>\n",
       "</table>\n",
       "</div>"
      ],
      "text/plain": [
       "          year    type     discipline                           event  \\\n",
       "250026  2016.0  Summer  Weightlifting  Featherweight, Women (Olympic)   \n",
       "250027  2020.0  Summer  Weightlifting  Featherweight, Women (Olympic)   \n",
       "304104  2020.0  Summer         Boxing  Featherweight, Women (Olympic)   \n",
       "304112  2020.0  Summer         Boxing        Flyweight, Men (Olympic)   \n",
       "304113  2020.0  Summer         Boxing     Middleweight, Men (Olympic)   \n",
       "\n",
       "                    as  athlete_id  noc team  place   tied   medal  \n",
       "250026    Hidilyn Diaz      116263  PHI  NaN    2.0  False  Silver  \n",
       "250027    Hidilyn Diaz      116263  PHI  NaN    1.0  False    Gold  \n",
       "304104  Nesthy Petecio      145878  PHI  NaN    2.0  False  Silver  \n",
       "304112    Carlo Paalam      145885  PHI  NaN    2.0  False  Silver  \n",
       "304113   Eumir Marcial      145886  PHI  NaN    3.0   True  Bronze  "
      ]
     },
     "execution_count": 183,
     "metadata": {},
     "output_type": "execute_result"
    }
   ],
   "source": [
    "# Start wrangling here\n",
    "\n",
    "filtered_df = olympics_results[olympics_results['noc'] == 'PHI']\n",
    "filtered_df = filtered_df[filtered_df['year'] >= 2000]\n",
    "filtered_df = filtered_df[filtered_df['medal'].notnull()]\n",
    "filtered_df"
   ]
  },
  {
   "cell_type": "markdown",
   "metadata": {},
   "source": [
    "#### II. The Big Five\n",
    "\n",
    "Sports journalists are crafting a new magazine that features __*\"The Big Five\"*__. They reached out to your team seeking information on the global power rankings throughout the entire Olympic history. What are the top 5 countries that bagged the most Gold medals?"
   ]
  },
  {
   "cell_type": "code",
   "execution_count": 217,
   "metadata": {
    "execution": {
     "iopub.execute_input": "2025-03-08T09:06:07.593535Z",
     "iopub.status.busy": "2025-03-08T09:06:07.592416Z",
     "iopub.status.idle": "2025-03-08T09:06:07.622088Z",
     "shell.execute_reply": "2025-03-08T09:06:07.620316Z",
     "shell.execute_reply.started": "2025-03-08T09:06:07.593535Z"
    }
   },
   "outputs": [
    {
     "data": {
      "text/plain": [
       "40        FRA\n",
       "41        FRA\n",
       "42        FRA\n",
       "48        FRA\n",
       "80        FRA\n",
       "         ... \n",
       "308139    ROC\n",
       "308141    ROC\n",
       "308290    SUI\n",
       "308326    SUI\n",
       "308340    SUI\n",
       "Name: noc, Length: 14783, dtype: object"
      ]
     },
     "execution_count": 217,
     "metadata": {},
     "output_type": "execute_result"
    }
   ],
   "source": [
    "medal = olympics_results[olympics_results['medal'] == 'Gold']['noc']\n",
    "medal"
   ]
  },
  {
   "cell_type": "code",
   "execution_count": 73,
   "metadata": {
    "execution": {
     "iopub.execute_input": "2025-03-08T08:01:44.004920Z",
     "iopub.status.busy": "2025-03-08T08:01:44.003900Z",
     "iopub.status.idle": "2025-03-08T08:01:44.034295Z",
     "shell.execute_reply": "2025-03-08T08:01:44.033287Z",
     "shell.execute_reply.started": "2025-03-08T08:01:44.004920Z"
    }
   },
   "outputs": [
    {
     "name": "stdout",
     "output_type": "stream",
     "text": [
      "     noc  gold_count\n",
      "107  USA        2717\n",
      "105  URS        1076\n",
      "41   GER         817\n",
      "38   GBR         715\n",
      "52   ITA         605\n"
     ]
    }
   ],
   "source": [
    "# Start wrangling here\n",
    "gold_medals = olympics_results[olympics_results['medal'] == 'Gold']\n",
    "\n",
    "gold_medals_count = gold_medals.groupby('noc')['medal'].count().reset_index(name='gold_count')\n",
    "\n",
    "top_5_countries = gold_medals_count.sort_values(by='gold_count', ascending=False).head(5)\n",
    "\n",
    "# Display the results\n",
    "print(top_5_countries)"
   ]
  },
  {
   "cell_type": "markdown",
   "metadata": {},
   "source": [
    "#### III. BMI Influence in Medal Success\n",
    "\n",
    "General coaching staff from various professional athelete management firms seek to understand correlation of body composition and performance outcome in a given field of sports. Your team was asked to provide data on the average BMI class of gold medalists per sports discipline.\n",
    "\n",
    "##### BMI formula\n",
    "\n",
    "<img src=\"images/bmi_formula.png\" alt=\"BMI Formula\" width=\"500\" />\n",
    "\n",
    "##### Standard BMI classification\n",
    "\n",
    "<img src=\"images/bmi_class.png\" alt=\"BMI Classification\" width=\"500\" />"
   ]
  },
  {
   "cell_type": "code",
   "execution_count": 223,
   "metadata": {
    "execution": {
     "iopub.execute_input": "2025-03-08T09:09:18.414407Z",
     "iopub.status.busy": "2025-03-08T09:09:18.413884Z",
     "iopub.status.idle": "2025-03-08T09:09:18.433724Z",
     "shell.execute_reply": "2025-03-08T09:09:18.433065Z",
     "shell.execute_reply.started": "2025-03-08T09:09:18.414407Z"
    }
   },
   "outputs": [],
   "source": [
    "# Start wrangling here\n",
    "\n",
    "gold_medalists_bios = gold_medals.merge(olympics_bios[['athlete_id', 'height_cm', 'weight_kg']], on='athlete_id', how='left')\n",
    "\n",
    "gold_medalists_bios['height_m'] = gold_medalists_bios['height_cm'] / 100\n",
    "\n",
    "\n",
    "gold_medalists_bios['BMI'] = gold_medalists_bios['weight_kg'] / (gold_medalists_bios['height_m'] ** 2)\n",
    "\n",
    "average_bmi_per_sport = gold_medalists_bios.groupby('discipline')['BMI'].mean().reset_index()"
   ]
  },
  {
   "cell_type": "code",
   "execution_count": 225,
   "metadata": {
    "execution": {
     "iopub.execute_input": "2025-03-08T09:09:24.500507Z",
     "iopub.status.busy": "2025-03-08T09:09:24.500507Z",
     "iopub.status.idle": "2025-03-08T09:09:24.509680Z",
     "shell.execute_reply": "2025-03-08T09:09:24.508669Z",
     "shell.execute_reply.started": "2025-03-08T09:09:24.500507Z"
    }
   },
   "outputs": [],
   "source": [
    "def categorize_bmi(bmi):\n",
    "    if bmi < 18.5:\n",
    "        return 'Underweight'\n",
    "    elif 18.5 <= bmi < 25.0:\n",
    "        return 'Normal range'\n",
    "    elif 25.0 <= bmi < 30.0:\n",
    "        return 'Overweight'\n",
    "    elif 30.0 <= bmi < 35.0:\n",
    "        return 'Obese Class I'\n",
    "    elif 35.0 <= bmi < 40.0:\n",
    "        return 'Obese Class II'\n",
    "    else:\n",
    "        return 'Obese Class III'"
   ]
  },
  {
   "cell_type": "code",
   "execution_count": 227,
   "metadata": {
    "execution": {
     "iopub.execute_input": "2025-03-08T09:09:44.309757Z",
     "iopub.status.busy": "2025-03-08T09:09:44.307752Z",
     "iopub.status.idle": "2025-03-08T09:09:44.335857Z",
     "shell.execute_reply": "2025-03-08T09:09:44.335400Z",
     "shell.execute_reply.started": "2025-03-08T09:09:44.309757Z"
    }
   },
   "outputs": [
    {
     "data": {
      "text/html": [
       "<div>\n",
       "<style scoped>\n",
       "    .dataframe tbody tr th:only-of-type {\n",
       "        vertical-align: middle;\n",
       "    }\n",
       "\n",
       "    .dataframe tbody tr th {\n",
       "        vertical-align: top;\n",
       "    }\n",
       "\n",
       "    .dataframe thead th {\n",
       "        text-align: right;\n",
       "    }\n",
       "</style>\n",
       "<table border=\"1\" class=\"dataframe\">\n",
       "  <thead>\n",
       "    <tr style=\"text-align: right;\">\n",
       "      <th></th>\n",
       "      <th>discipline</th>\n",
       "      <th>Weight Status</th>\n",
       "      <th>BMI</th>\n",
       "    </tr>\n",
       "  </thead>\n",
       "  <tbody>\n",
       "    <tr>\n",
       "      <th>0</th>\n",
       "      <td>3-on-3 Ice Hockey (Ice Hockey)</td>\n",
       "      <td>Normal range</td>\n",
       "      <td>21.280900</td>\n",
       "    </tr>\n",
       "    <tr>\n",
       "      <th>1</th>\n",
       "      <td>3-on-3 Ice Hockey (Ice Hockey)</td>\n",
       "      <td>Obese Class III</td>\n",
       "      <td>NaN</td>\n",
       "    </tr>\n",
       "    <tr>\n",
       "      <th>2</th>\n",
       "      <td>3-on-3 Ice Hockey (Ice Hockey)</td>\n",
       "      <td>Overweight</td>\n",
       "      <td>25.106333</td>\n",
       "    </tr>\n",
       "    <tr>\n",
       "      <th>3</th>\n",
       "      <td>3x3 Basketball (Basketball)</td>\n",
       "      <td>Normal range</td>\n",
       "      <td>22.694019</td>\n",
       "    </tr>\n",
       "    <tr>\n",
       "      <th>4</th>\n",
       "      <td>3x3 Basketball (Basketball)</td>\n",
       "      <td>Obese Class III</td>\n",
       "      <td>NaN</td>\n",
       "    </tr>\n",
       "    <tr>\n",
       "      <th>...</th>\n",
       "      <td>...</td>\n",
       "      <td>...</td>\n",
       "      <td>...</td>\n",
       "    </tr>\n",
       "    <tr>\n",
       "      <th>254</th>\n",
       "      <td>Wrestling</td>\n",
       "      <td>Normal range</td>\n",
       "      <td>22.286794</td>\n",
       "    </tr>\n",
       "    <tr>\n",
       "      <th>255</th>\n",
       "      <td>Wrestling</td>\n",
       "      <td>Obese Class I</td>\n",
       "      <td>32.386913</td>\n",
       "    </tr>\n",
       "    <tr>\n",
       "      <th>256</th>\n",
       "      <td>Wrestling</td>\n",
       "      <td>Obese Class II</td>\n",
       "      <td>36.747716</td>\n",
       "    </tr>\n",
       "    <tr>\n",
       "      <th>257</th>\n",
       "      <td>Wrestling</td>\n",
       "      <td>Obese Class III</td>\n",
       "      <td>NaN</td>\n",
       "    </tr>\n",
       "    <tr>\n",
       "      <th>258</th>\n",
       "      <td>Wrestling</td>\n",
       "      <td>Overweight</td>\n",
       "      <td>27.038558</td>\n",
       "    </tr>\n",
       "  </tbody>\n",
       "</table>\n",
       "<p>259 rows × 3 columns</p>\n",
       "</div>"
      ],
      "text/plain": [
       "                         discipline    Weight Status        BMI\n",
       "0    3-on-3 Ice Hockey (Ice Hockey)     Normal range  21.280900\n",
       "1    3-on-3 Ice Hockey (Ice Hockey)  Obese Class III        NaN\n",
       "2    3-on-3 Ice Hockey (Ice Hockey)       Overweight  25.106333\n",
       "3       3x3 Basketball (Basketball)     Normal range  22.694019\n",
       "4       3x3 Basketball (Basketball)  Obese Class III        NaN\n",
       "..                              ...              ...        ...\n",
       "254                       Wrestling     Normal range  22.286794\n",
       "255                       Wrestling    Obese Class I  32.386913\n",
       "256                       Wrestling   Obese Class II  36.747716\n",
       "257                       Wrestling  Obese Class III        NaN\n",
       "258                       Wrestling       Overweight  27.038558\n",
       "\n",
       "[259 rows x 3 columns]"
      ]
     },
     "metadata": {},
     "output_type": "display_data"
    }
   ],
   "source": [
    "gold_medalists_bios['Weight Status'] = gold_medalists_bios['BMI'].apply(categorize_bmi)\n",
    "\n",
    "average_bmi_per_sport_with_status = gold_medalists_bios.groupby(['discipline', 'Weight Status'])['BMI'].mean().reset_index()\n",
    "\n",
    "display(average_bmi_per_sport_with_status)"
   ]
  },
  {
   "cell_type": "code",
   "execution_count": null,
   "metadata": {},
   "outputs": [],
   "source": []
  }
 ],
 "metadata": {
  "kernelspec": {
   "display_name": "Python 3 (ipykernel)",
   "language": "python",
   "name": "python3"
  },
  "language_info": {
   "codemirror_mode": {
    "name": "ipython",
    "version": 3
   },
   "file_extension": ".py",
   "mimetype": "text/x-python",
   "name": "python",
   "nbconvert_exporter": "python",
   "pygments_lexer": "ipython3",
   "version": "3.11.5"
  }
 },
 "nbformat": 4,
 "nbformat_minor": 4
}
