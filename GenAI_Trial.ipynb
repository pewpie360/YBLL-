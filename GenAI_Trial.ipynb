{
 "cells": [
  {
   "cell_type": "markdown",
   "id": "76b5ac54",
   "metadata": {},
   "source": [
    "## `Groq Key`"
   ]
  },
  {
   "cell_type": "code",
   "execution_count": 1,
   "id": "b2960439",
   "metadata": {},
   "outputs": [],
   "source": [
    "import os\n",
    "your_api_key = \"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\"\n",
    "os.environ['GROQ_API_KEY'] = your_api_key"
   ]
  },
  {
   "cell_type": "markdown",
   "id": "7b9fb80d",
   "metadata": {},
   "source": [
    "## `Imports`"
   ]
  },
  {
   "cell_type": "code",
   "execution_count": 13,
   "id": "c84f8923",
   "metadata": {},
   "outputs": [],
   "source": [
    "from langchain_groq import ChatGroq\n",
    "from langchain_core.prompts import ChatPromptTemplate\n",
    "from langchain_core.output_parsers import JsonOutputParser\n",
    "from langchain_core.output_parsers import StrOutputParser\n",
    "from langchain_core.runnables import RunnableLambda, RunnablePassthrough"
   ]
  },
  {
   "cell_type": "markdown",
   "id": "ad1784b5",
   "metadata": {},
   "source": [
    "## `Create an agent specialize in Math field`"
   ]
  },
  {
   "cell_type": "code",
   "execution_count": null,
   "id": "b84f600f",
   "metadata": {},
   "outputs": [
    {
     "name": "stdout",
     "output_type": "stream",
     "text": [
      "It looks like you're ready to ask some questions. Go ahead and ask away, and I'll do my best to provide helpful and accurate answers. What's on your mind?\n"
     ]
    }
   ],
   "source": [
    "# Initialize Groq LLM\n",
    "llm = ChatGroq(\n",
    "    model_name=\"llama-3.3-70b-versatile\",\n",
    "    temperature=0.7\n",
    ")\n",
    "\n",
    "#setup the prompt\n",
    "general_prompt = ChatPromptTemplate.from_messages([\n",
    "    (\"system\", \"\"\"\n",
    "                You are a math expert who act as a virtual tutor. :D\n",
    "                You explain complex math problems in a way that 5 years old can also understand. :D\n",
    "                You're a professor who acts cool towards it's students. :D\n",
    "                Breakdown is your speciality in terms of solving a problem. :D\n",
    "                \"\"\"),\n",
    "    (\"user\", \"{input}\")\n",
    "])\n",
    "\n",
    "followup_prompt = ChatPromptTemplate.from_messages([\n",
    "    (\"system\", \"\"\" \n",
    "                Breakdown the task given in a simple way.\n",
    "                apply step by step process.\n",
    "                provide samples to better understand the given task.\n",
    "               \"\"\"),\n",
    "    (\"user\", \"{explanation}\")\n",
    "])\n",
    "\n",
    "QandA_prompt = ChatPromptTemplate.from_messages\n",
    "([\n",
    "    (\"system\", \"\"\" \n",
    "                You are task to conduct question and answer portion to the user related to the task given.\n",
    "                If user can't answer, provide the solution.\n",
    "                make it understandable.\n",
    "               \"\"\"),\n",
    "    (\"user\", \"{questions}\")\n",
    "])\n",
    "\n",
    "#define the chain\n",
    "chain = general_prompt | llm | StrOutputParser() | RunnableLambda(lambda x: {\"explanation\": x}) | followup_prompt | llm | StrOutputParser() | RunnableLambda(lambda i: {\"questions\": i}) | \\\n",
    "QandA_prompt | llm | StrOutputParser()\n",
    "\n",
    "#call the LLM\n",
    "user_prompt = \"Can you explain to me what is the Fermat's Last Theorem?\"\n",
    "result = chain.invoke({\"input\": user_prompt})\n",
    "print(result)"
   ]
  },
  {
   "cell_type": "markdown",
   "id": "a4077082",
   "metadata": {},
   "source": []
  }
 ],
 "metadata": {
  "kernelspec": {
   "display_name": "base",
   "language": "python",
   "name": "python3"
  },
  "language_info": {
   "codemirror_mode": {
    "name": "ipython",
    "version": 3
   },
   "file_extension": ".py",
   "mimetype": "text/x-python",
   "name": "python",
   "nbconvert_exporter": "python",
   "pygments_lexer": "ipython3",
   "version": "3.11.5"
  }
 },
 "nbformat": 4,
 "nbformat_minor": 5
}
